{
 "cells": [
  {
   "cell_type": "code",
   "execution_count": 1,
   "id": "8d4a7cb0-fbf6-487f-a8cc-5009206e1ecc",
   "metadata": {},
   "outputs": [],
   "source": [
    "import os\n",
    "import pandas as pd\n",
    "import matplotlib as mlt\n",
    "from pathlib import Path"
   ]
  },
  {
   "cell_type": "code",
   "execution_count": 2,
   "id": "fc015df4",
   "metadata": {},
   "outputs": [
    {
     "name": "stderr",
     "output_type": "stream",
     "text": [
      "C:\\Users\\pegam\\AppData\\Local\\Temp\\ipykernel_14152\\2197072012.py:5: DtypeWarning: Columns (11,12) have mixed types. Specify dtype option on import or set low_memory=False.\n",
      "  wine_df = pd.read_csv(data_load,encoding=\"ISO-8859-1\")\n"
     ]
    },
    {
     "data": {
      "text/html": [
       "<div>\n",
       "<style scoped>\n",
       "    .dataframe tbody tr th:only-of-type {\n",
       "        vertical-align: middle;\n",
       "    }\n",
       "\n",
       "    .dataframe tbody tr th {\n",
       "        vertical-align: top;\n",
       "    }\n",
       "\n",
       "    .dataframe thead th {\n",
       "        text-align: right;\n",
       "    }\n",
       "</style>\n",
       "<table border=\"1\" class=\"dataframe\">\n",
       "  <thead>\n",
       "    <tr style=\"text-align: right;\">\n",
       "      <th></th>\n",
       "      <th>Country</th>\n",
       "      <th>Description</th>\n",
       "      <th>Points</th>\n",
       "      <th>Price ($)</th>\n",
       "      <th>Region</th>\n",
       "      <th>Title</th>\n",
       "      <th>Variety</th>\n",
       "    </tr>\n",
       "  </thead>\n",
       "  <tbody>\n",
       "    <tr>\n",
       "      <th>2</th>\n",
       "      <td>US</td>\n",
       "      <td>Tart and snappy, the flavors of lime flesh and...</td>\n",
       "      <td>87.0</td>\n",
       "      <td>14.0</td>\n",
       "      <td>Willamette Valley</td>\n",
       "      <td>Rainstorm 2013 Pinot Gris (Willamette Valley)</td>\n",
       "      <td>Pinot Gris</td>\n",
       "    </tr>\n",
       "    <tr>\n",
       "      <th>3</th>\n",
       "      <td>US</td>\n",
       "      <td>Pineapple rind, lemon pith and orange blossom ...</td>\n",
       "      <td>87.0</td>\n",
       "      <td>13.0</td>\n",
       "      <td>Lake Michigan Shore</td>\n",
       "      <td>St. Julian 2013 Reserve Late Harvest Riesling ...</td>\n",
       "      <td>Riesling</td>\n",
       "    </tr>\n",
       "    <tr>\n",
       "      <th>4</th>\n",
       "      <td>US</td>\n",
       "      <td>Much like the regular bottling from 2012, this...</td>\n",
       "      <td>87.0</td>\n",
       "      <td>65.0</td>\n",
       "      <td>Willamette Valley</td>\n",
       "      <td>Sweet Cheeks 2012 Vintner's Reserve Wild Child...</td>\n",
       "      <td>Pinot Noir</td>\n",
       "    </tr>\n",
       "    <tr>\n",
       "      <th>5</th>\n",
       "      <td>Spain</td>\n",
       "      <td>Blackberry and raspberry aromas show a typical...</td>\n",
       "      <td>87.0</td>\n",
       "      <td>15.0</td>\n",
       "      <td>Navarra</td>\n",
       "      <td>Tandem 2011 Ars In Vitro Tempranillo-Merlot (N...</td>\n",
       "      <td>Tempranillo-Merlot</td>\n",
       "    </tr>\n",
       "    <tr>\n",
       "      <th>6</th>\n",
       "      <td>Italy</td>\n",
       "      <td>Here's a bright, informal red that opens with ...</td>\n",
       "      <td>87.0</td>\n",
       "      <td>16.0</td>\n",
       "      <td>Vittoria</td>\n",
       "      <td>Terre di Giurfo 2013 Belsito Frappato (Vittoria)</td>\n",
       "      <td>Frappato</td>\n",
       "    </tr>\n",
       "  </tbody>\n",
       "</table>\n",
       "</div>"
      ],
      "text/plain": [
       "  Country                                        Description  Points  \\\n",
       "2      US  Tart and snappy, the flavors of lime flesh and...    87.0   \n",
       "3      US  Pineapple rind, lemon pith and orange blossom ...    87.0   \n",
       "4      US  Much like the regular bottling from 2012, this...    87.0   \n",
       "5   Spain  Blackberry and raspberry aromas show a typical...    87.0   \n",
       "6   Italy  Here's a bright, informal red that opens with ...    87.0   \n",
       "\n",
       "   Price ($)               Region  \\\n",
       "2       14.0    Willamette Valley   \n",
       "3       13.0  Lake Michigan Shore   \n",
       "4       65.0    Willamette Valley   \n",
       "5       15.0              Navarra   \n",
       "6       16.0             Vittoria   \n",
       "\n",
       "                                               Title             Variety  \n",
       "2      Rainstorm 2013 Pinot Gris (Willamette Valley)          Pinot Gris  \n",
       "3  St. Julian 2013 Reserve Late Harvest Riesling ...            Riesling  \n",
       "4  Sweet Cheeks 2012 Vintner's Reserve Wild Child...          Pinot Noir  \n",
       "5  Tandem 2011 Ars In Vitro Tempranillo-Merlot (N...  Tempranillo-Merlot  \n",
       "6   Terre di Giurfo 2013 Belsito Frappato (Vittoria)            Frappato  "
      ]
     },
     "execution_count": 2,
     "metadata": {},
     "output_type": "execute_result"
    }
   ],
   "source": [
    " #designate the csv file data path\n",
    "data_load = Path ('../Resources/wine_data.csv')\n",
    "\n",
    "# uniform language\n",
    "wine_df = pd.read_csv(data_load,encoding=\"ISO-8859-1\")\n",
    "\n",
    "# removing duplicates\n",
    "wine_df = wine_df.drop([\"Unnamed: 7\", \"Unnamed: 8\", \"Unnamed: 9\", \"Unnamed: 10\", \"Unnamed: 11\", \"Unnamed: 12\"], axis=1)\n",
    "wine_df = wine_df.drop_duplicates()\n",
    "\n",
    "# rennaming and capitalization of data\n",
    "wine_df.rename(columns={'country':'Country'}, inplace=True)\n",
    "wine_df.rename(columns={'description':'Description'}, inplace=True)\n",
    "wine_df.rename(columns={'points':'Points'}, inplace=True)\n",
    "wine_df.rename(columns={'price ($)':'Price ($)'}, inplace=True)\n",
    "wine_df.rename(columns={'region':'Region'}, inplace=True)\n",
    "wine_df.rename(columns={'title':'Title'}, inplace=True)\n",
    "wine_df.rename(columns={'variety':'Variety'}, inplace=True)\n",
    "\n",
    "#change types from objects to strings, anything that is a number to a float64/int\n",
    "wine_df['Country']= wine_df['Country'].astype('string')\n",
    "wine_df['Description']= wine_df['Description'].astype('string')\n",
    "wine_df['Region']= wine_df['Region'].astype('string')\n",
    "wine_df['Title']= wine_df['Title'].astype('string')\n",
    "wine_df['Variety']= wine_df['Variety'].astype('string')\n",
    "wine_df['Price ($)']=pd.to_numeric(wine_df['Price ($)'],errors='coerce')\n",
    "wine_df['Points']=pd.to_numeric(wine_df['Points'],errors='coerce')\n",
    "\n",
    "#drop unnecessary values\n",
    "wine_df = wine_df.dropna(axis=0)\n",
    "\n",
    "#print first five rows of data frame\n",
    "wine_df.head()\n",
    "\n"
   ]
  },
  {
   "cell_type": "code",
   "execution_count": 3,
   "id": "c4a3e168",
   "metadata": {},
   "outputs": [
    {
     "data": {
      "text/plain": [
       "Country        string[python]\n",
       "Description    string[python]\n",
       "Points                float64\n",
       "Price ($)             float64\n",
       "Region         string[python]\n",
       "Title          string[python]\n",
       "Variety        string[python]\n",
       "dtype: object"
      ]
     },
     "execution_count": 3,
     "metadata": {},
     "output_type": "execute_result"
    }
   ],
   "source": [
    "# df types\n",
    "wine_df.dtypes"
   ]
  },
  {
   "cell_type": "code",
   "execution_count": 4,
   "id": "dfbfccc6",
   "metadata": {},
   "outputs": [
    {
     "data": {
      "text/plain": [
       "Country        93576\n",
       "Description    93576\n",
       "Points         93576\n",
       "Price ($)      93576\n",
       "Region         93576\n",
       "Title          93576\n",
       "Variety        93576\n",
       "dtype: int64"
      ]
     },
     "execution_count": 4,
     "metadata": {},
     "output_type": "execute_result"
    }
   ],
   "source": [
    "# df count\n",
    "wine_df.count()"
   ]
  },
  {
   "cell_type": "code",
   "execution_count": 5,
   "id": "74570a89",
   "metadata": {},
   "outputs": [
    {
     "data": {
      "text/plain": [
       "Index(['Country', 'Description', 'Points', 'Price ($)', 'Region', 'Title',\n",
       "       'Variety'],\n",
       "      dtype='object')"
      ]
     },
     "execution_count": 5,
     "metadata": {},
     "output_type": "execute_result"
    }
   ],
   "source": [
    "#find the different columns that are in data frame\n",
    "wine_df.columns "
   ]
  },
  {
   "cell_type": "code",
   "execution_count": 7,
   "id": "5c2fc59d",
   "metadata": {},
   "outputs": [
    {
     "data": {
      "text/html": [
       "<div>\n",
       "<style scoped>\n",
       "    .dataframe tbody tr th:only-of-type {\n",
       "        vertical-align: middle;\n",
       "    }\n",
       "\n",
       "    .dataframe tbody tr th {\n",
       "        vertical-align: top;\n",
       "    }\n",
       "\n",
       "    .dataframe thead th {\n",
       "        text-align: right;\n",
       "    }\n",
       "</style>\n",
       "<table border=\"1\" class=\"dataframe\">\n",
       "  <thead>\n",
       "    <tr style=\"text-align: right;\">\n",
       "      <th></th>\n",
       "      <th>Country</th>\n",
       "      <th>Description</th>\n",
       "      <th>Points</th>\n",
       "      <th>Price ($)</th>\n",
       "      <th>Region</th>\n",
       "      <th>Title</th>\n",
       "      <th>Variety</th>\n",
       "    </tr>\n",
       "  </thead>\n",
       "  <tbody>\n",
       "    <tr>\n",
       "      <th>0</th>\n",
       "      <td>US</td>\n",
       "      <td>Tart and snappy, the flavors of lime flesh and...</td>\n",
       "      <td>87.0</td>\n",
       "      <td>14.0</td>\n",
       "      <td>Willamette Valley</td>\n",
       "      <td>Rainstorm 2013 Pinot Gris (Willamette Valley)</td>\n",
       "      <td>Pinot Gris</td>\n",
       "    </tr>\n",
       "    <tr>\n",
       "      <th>1</th>\n",
       "      <td>US</td>\n",
       "      <td>Pineapple rind, lemon pith and orange blossom ...</td>\n",
       "      <td>87.0</td>\n",
       "      <td>13.0</td>\n",
       "      <td>Lake Michigan Shore</td>\n",
       "      <td>St. Julian 2013 Reserve Late Harvest Riesling ...</td>\n",
       "      <td>Riesling</td>\n",
       "    </tr>\n",
       "    <tr>\n",
       "      <th>2</th>\n",
       "      <td>Spain</td>\n",
       "      <td>Blackberry and raspberry aromas show a typical...</td>\n",
       "      <td>87.0</td>\n",
       "      <td>15.0</td>\n",
       "      <td>Navarra</td>\n",
       "      <td>Tandem 2011 Ars In Vitro Tempranillo-Merlot (N...</td>\n",
       "      <td>Tempranillo-Merlot</td>\n",
       "    </tr>\n",
       "    <tr>\n",
       "      <th>3</th>\n",
       "      <td>Italy</td>\n",
       "      <td>Here's a bright, informal red that opens with ...</td>\n",
       "      <td>87.0</td>\n",
       "      <td>16.0</td>\n",
       "      <td>Vittoria</td>\n",
       "      <td>Terre di Giurfo 2013 Belsito Frappato (Vittoria)</td>\n",
       "      <td>Frappato</td>\n",
       "    </tr>\n",
       "    <tr>\n",
       "      <th>4</th>\n",
       "      <td>France</td>\n",
       "      <td>This dry and restrained wine offers spice in p...</td>\n",
       "      <td>87.0</td>\n",
       "      <td>24.0</td>\n",
       "      <td>Alsace</td>\n",
       "      <td>Trimbach 2012 Gewurztraminer (Alsace)</td>\n",
       "      <td>Gewürztraminer</td>\n",
       "    </tr>\n",
       "    <tr>\n",
       "      <th>...</th>\n",
       "      <td>...</td>\n",
       "      <td>...</td>\n",
       "      <td>...</td>\n",
       "      <td>...</td>\n",
       "      <td>...</td>\n",
       "      <td>...</td>\n",
       "      <td>...</td>\n",
       "    </tr>\n",
       "    <tr>\n",
       "      <th>42650</th>\n",
       "      <td>Italy</td>\n",
       "      <td>Blackberry, cassis, grilled herb and toasted a...</td>\n",
       "      <td>90.0</td>\n",
       "      <td>40.0</td>\n",
       "      <td>Sicilia</td>\n",
       "      <td>Cusumano 2012 Sàgana Tenuta San Giacomo Nero d...</td>\n",
       "      <td>Nero d'Avola</td>\n",
       "    </tr>\n",
       "    <tr>\n",
       "      <th>42651</th>\n",
       "      <td>France</td>\n",
       "      <td>While it's rich, this beautiful dry wine also ...</td>\n",
       "      <td>90.0</td>\n",
       "      <td>28.0</td>\n",
       "      <td>Alsace</td>\n",
       "      <td>Domaine Rieflé-Landmann 2013 Seppi Landmann Va...</td>\n",
       "      <td>Pinot Gris</td>\n",
       "    </tr>\n",
       "    <tr>\n",
       "      <th>42652</th>\n",
       "      <td>France</td>\n",
       "      <td>Well-drained gravel soil gives this wine its c...</td>\n",
       "      <td>90.0</td>\n",
       "      <td>30.0</td>\n",
       "      <td>Alsace</td>\n",
       "      <td>Domaine Gresser 2013 Kritt Gewurztraminer (Als...</td>\n",
       "      <td>Gewürztraminer</td>\n",
       "    </tr>\n",
       "    <tr>\n",
       "      <th>42653</th>\n",
       "      <td>France</td>\n",
       "      <td>A dry style of Pinot Gris, this is crisp with ...</td>\n",
       "      <td>90.0</td>\n",
       "      <td>32.0</td>\n",
       "      <td>Alsace</td>\n",
       "      <td>Domaine Marcel Deiss 2012 Pinot Gris (Alsace)</td>\n",
       "      <td>Pinot Gris</td>\n",
       "    </tr>\n",
       "    <tr>\n",
       "      <th>42654</th>\n",
       "      <td>France</td>\n",
       "      <td>Big, rich and off-dry, this is powered by inte...</td>\n",
       "      <td>90.0</td>\n",
       "      <td>21.0</td>\n",
       "      <td>Alsace</td>\n",
       "      <td>Domaine Schoffit 2012 Lieu-dit Harth Cuvée Car...</td>\n",
       "      <td>Gewürztraminer</td>\n",
       "    </tr>\n",
       "  </tbody>\n",
       "</table>\n",
       "<p>42655 rows × 7 columns</p>\n",
       "</div>"
      ],
      "text/plain": [
       "      Country                                        Description  Points  \\\n",
       "0          US  Tart and snappy, the flavors of lime flesh and...    87.0   \n",
       "1          US  Pineapple rind, lemon pith and orange blossom ...    87.0   \n",
       "2       Spain  Blackberry and raspberry aromas show a typical...    87.0   \n",
       "3       Italy  Here's a bright, informal red that opens with ...    87.0   \n",
       "4      France  This dry and restrained wine offers spice in p...    87.0   \n",
       "...       ...                                                ...     ...   \n",
       "42650   Italy  Blackberry, cassis, grilled herb and toasted a...    90.0   \n",
       "42651  France  While it's rich, this beautiful dry wine also ...    90.0   \n",
       "42652  France  Well-drained gravel soil gives this wine its c...    90.0   \n",
       "42653  France  A dry style of Pinot Gris, this is crisp with ...    90.0   \n",
       "42654  France  Big, rich and off-dry, this is powered by inte...    90.0   \n",
       "\n",
       "       Price ($)               Region  \\\n",
       "0           14.0    Willamette Valley   \n",
       "1           13.0  Lake Michigan Shore   \n",
       "2           15.0              Navarra   \n",
       "3           16.0             Vittoria   \n",
       "4           24.0               Alsace   \n",
       "...          ...                  ...   \n",
       "42650       40.0              Sicilia   \n",
       "42651       28.0               Alsace   \n",
       "42652       30.0               Alsace   \n",
       "42653       32.0               Alsace   \n",
       "42654       21.0               Alsace   \n",
       "\n",
       "                                                   Title             Variety  \n",
       "0          Rainstorm 2013 Pinot Gris (Willamette Valley)          Pinot Gris  \n",
       "1      St. Julian 2013 Reserve Late Harvest Riesling ...            Riesling  \n",
       "2      Tandem 2011 Ars In Vitro Tempranillo-Merlot (N...  Tempranillo-Merlot  \n",
       "3       Terre di Giurfo 2013 Belsito Frappato (Vittoria)            Frappato  \n",
       "4                  Trimbach 2012 Gewurztraminer (Alsace)      Gewürztraminer  \n",
       "...                                                  ...                 ...  \n",
       "42650  Cusumano 2012 Sàgana Tenuta San Giacomo Nero d...        Nero d'Avola  \n",
       "42651  Domaine Rieflé-Landmann 2013 Seppi Landmann Va...          Pinot Gris  \n",
       "42652  Domaine Gresser 2013 Kritt Gewurztraminer (Als...      Gewürztraminer  \n",
       "42653      Domaine Marcel Deiss 2012 Pinot Gris (Alsace)          Pinot Gris  \n",
       "42654  Domaine Schoffit 2012 Lieu-dit Harth Cuvée Car...      Gewürztraminer  \n",
       "\n",
       "[42655 rows x 7 columns]"
      ]
     },
     "execution_count": 7,
     "metadata": {},
     "output_type": "execute_result"
    }
   ],
   "source": [
    "#isolate the top 10 wines based on variety data\n",
    "df= wine_df['Variety'].value_counts()\n",
    "threshold = 2500\n",
    "drop_df = df[df > threshold].index\n",
    "\n",
    "clean_wine_df = wine_df[wine_df['Variety'].isin(drop_df)==False].reset_index(drop=True)\n",
    "\n",
    "clean_wine_df"
   ]
  },
  {
   "cell_type": "code",
   "execution_count": 8,
   "id": "9819f0d8",
   "metadata": {},
   "outputs": [
    {
     "data": {
      "text/plain": [
       "Country        string[python]\n",
       "Description    string[python]\n",
       "Points                float64\n",
       "Price ($)             float64\n",
       "Region         string[python]\n",
       "Title          string[python]\n",
       "Variety        string[python]\n",
       "dtype: object"
      ]
     },
     "execution_count": 8,
     "metadata": {},
     "output_type": "execute_result"
    }
   ],
   "source": [
    "#change data types to strings and integers\n",
    "clean_wine_df['Country']= clean_wine_df['Country'].astype('string')\n",
    "clean_wine_df['Description']= clean_wine_df['Description'].astype('string')\n",
    "clean_wine_df['Region']= clean_wine_df['Region'].astype('string')\n",
    "clean_wine_df['Title']= clean_wine_df['Title'].astype('string')\n",
    "clean_wine_df['Variety']= clean_wine_df['Variety'].astype('string')\n",
    "clean_wine_df['Price ($)']=pd.to_numeric(clean_wine_df['Price ($)'],errors='coerce')\n",
    "clean_wine_df['Points']=pd.to_numeric(clean_wine_df['Points'],errors='coerce')\n",
    "\n",
    "clean_wine_df.dtypes"
   ]
  },
  {
   "cell_type": "code",
   "execution_count": 9,
   "id": "58512a8a",
   "metadata": {},
   "outputs": [
    {
     "data": {
      "text/plain": [
       "Points\n",
       "90.0     4843\n",
       "91.0     3348\n",
       "92.0     2688\n",
       "93.0     1734\n",
       "94.0     1010\n",
       "95.0      433\n",
       "96.0      148\n",
       "97.0       62\n",
       "98.0       24\n",
       "99.0       11\n",
       "100.0       8\n",
       "Name: count, dtype: int64"
      ]
     },
     "execution_count": 9,
     "metadata": {},
     "output_type": "execute_result"
    }
   ],
   "source": [
    "#isolate the wines that have points of 90 or avbove\n",
    "high_points = clean_wine_df.loc[(clean_wine_df['Points']>= 90)]\n",
    "\n",
    "high_points['Points'].value_counts()"
   ]
  },
  {
   "cell_type": "code",
   "execution_count": 10,
   "id": "6b56a237",
   "metadata": {},
   "outputs": [
    {
     "data": {
      "text/plain": [
       "Country\n",
       "US           4823\n",
       "Italy        4114\n",
       "France       3074\n",
       "Spain        1162\n",
       "Australia     578\n",
       "Argentina     487\n",
       "Canada         71\n",
       "Name: count, dtype: Int64"
      ]
     },
     "execution_count": 10,
     "metadata": {},
     "output_type": "execute_result"
    }
   ],
   "source": [
    "#find the countries that produced the 90 or above wines\n",
    "high_points['Country'].value_counts()"
   ]
  },
  {
   "cell_type": "code",
   "execution_count": 11,
   "id": "eb143a06",
   "metadata": {},
   "outputs": [],
   "source": [
    "#create a groupby by country of the high rated wines\n",
    "\n",
    "high_points_df = high_points.groupby('Country')"
   ]
  },
  {
   "cell_type": "code",
   "execution_count": null,
   "id": "f7243a0a",
   "metadata": {},
   "outputs": [],
   "source": []
  }
 ],
 "metadata": {
  "kernelspec": {
   "display_name": "Python 3 (ipykernel)",
   "language": "python",
   "name": "python3"
  },
  "language_info": {
   "codemirror_mode": {
    "name": "ipython",
    "version": 3
   },
   "file_extension": ".py",
   "mimetype": "text/x-python",
   "name": "python",
   "nbconvert_exporter": "python",
   "pygments_lexer": "ipython3",
   "version": "3.11.7"
  }
 },
 "nbformat": 4,
 "nbformat_minor": 5
}
