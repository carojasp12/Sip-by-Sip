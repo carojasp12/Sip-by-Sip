{
 "cells": [
  {
   "cell_type": "code",
   "execution_count": 17,
   "id": "8d4a7cb0-fbf6-487f-a8cc-5009206e1ecc",
   "metadata": {},
   "outputs": [],
   "source": [
    "import os\n",
    "import pandas as pd\n",
    "import matplotlib as mlt\n",
    "from pathlib import Path\n",
    "import scipy.stats as st\n",
    "import matplotlib.pyplot as plt"
   ]
  },
  {
   "cell_type": "code",
   "execution_count": 7,
   "id": "fc015df4",
   "metadata": {},
   "outputs": [
    {
     "name": "stderr",
     "output_type": "stream",
     "text": [
      "C:\\Users\\caroj\\AppData\\Local\\Temp\\ipykernel_3928\\2197072012.py:5: DtypeWarning: Columns (11,12) have mixed types. Specify dtype option on import or set low_memory=False.\n",
      "  wine_df = pd.read_csv(data_load,encoding=\"ISO-8859-1\")\n"
     ]
    },
    {
     "data": {
      "text/html": [
       "<div>\n",
       "<style scoped>\n",
       "    .dataframe tbody tr th:only-of-type {\n",
       "        vertical-align: middle;\n",
       "    }\n",
       "\n",
       "    .dataframe tbody tr th {\n",
       "        vertical-align: top;\n",
       "    }\n",
       "\n",
       "    .dataframe thead th {\n",
       "        text-align: right;\n",
       "    }\n",
       "</style>\n",
       "<table border=\"1\" class=\"dataframe\">\n",
       "  <thead>\n",
       "    <tr style=\"text-align: right;\">\n",
       "      <th></th>\n",
       "      <th>Country</th>\n",
       "      <th>Description</th>\n",
       "      <th>Points</th>\n",
       "      <th>Price ($)</th>\n",
       "      <th>Region</th>\n",
       "      <th>Title</th>\n",
       "      <th>Variety</th>\n",
       "    </tr>\n",
       "  </thead>\n",
       "  <tbody>\n",
       "    <tr>\n",
       "      <th>2</th>\n",
       "      <td>US</td>\n",
       "      <td>Tart and snappy, the flavors of lime flesh and...</td>\n",
       "      <td>87.0</td>\n",
       "      <td>14.0</td>\n",
       "      <td>Willamette Valley</td>\n",
       "      <td>Rainstorm 2013 Pinot Gris (Willamette Valley)</td>\n",
       "      <td>Pinot Gris</td>\n",
       "    </tr>\n",
       "    <tr>\n",
       "      <th>3</th>\n",
       "      <td>US</td>\n",
       "      <td>Pineapple rind, lemon pith and orange blossom ...</td>\n",
       "      <td>87.0</td>\n",
       "      <td>13.0</td>\n",
       "      <td>Lake Michigan Shore</td>\n",
       "      <td>St. Julian 2013 Reserve Late Harvest Riesling ...</td>\n",
       "      <td>Riesling</td>\n",
       "    </tr>\n",
       "    <tr>\n",
       "      <th>4</th>\n",
       "      <td>US</td>\n",
       "      <td>Much like the regular bottling from 2012, this...</td>\n",
       "      <td>87.0</td>\n",
       "      <td>65.0</td>\n",
       "      <td>Willamette Valley</td>\n",
       "      <td>Sweet Cheeks 2012 Vintner's Reserve Wild Child...</td>\n",
       "      <td>Pinot Noir</td>\n",
       "    </tr>\n",
       "    <tr>\n",
       "      <th>5</th>\n",
       "      <td>Spain</td>\n",
       "      <td>Blackberry and raspberry aromas show a typical...</td>\n",
       "      <td>87.0</td>\n",
       "      <td>15.0</td>\n",
       "      <td>Navarra</td>\n",
       "      <td>Tandem 2011 Ars In Vitro Tempranillo-Merlot (N...</td>\n",
       "      <td>Tempranillo-Merlot</td>\n",
       "    </tr>\n",
       "    <tr>\n",
       "      <th>6</th>\n",
       "      <td>Italy</td>\n",
       "      <td>Here's a bright, informal red that opens with ...</td>\n",
       "      <td>87.0</td>\n",
       "      <td>16.0</td>\n",
       "      <td>Vittoria</td>\n",
       "      <td>Terre di Giurfo 2013 Belsito Frappato (Vittoria)</td>\n",
       "      <td>Frappato</td>\n",
       "    </tr>\n",
       "  </tbody>\n",
       "</table>\n",
       "</div>"
      ],
      "text/plain": [
       "  Country                                        Description  Points  \\\n",
       "2      US  Tart and snappy, the flavors of lime flesh and...    87.0   \n",
       "3      US  Pineapple rind, lemon pith and orange blossom ...    87.0   \n",
       "4      US  Much like the regular bottling from 2012, this...    87.0   \n",
       "5   Spain  Blackberry and raspberry aromas show a typical...    87.0   \n",
       "6   Italy  Here's a bright, informal red that opens with ...    87.0   \n",
       "\n",
       "   Price ($)               Region  \\\n",
       "2       14.0    Willamette Valley   \n",
       "3       13.0  Lake Michigan Shore   \n",
       "4       65.0    Willamette Valley   \n",
       "5       15.0              Navarra   \n",
       "6       16.0             Vittoria   \n",
       "\n",
       "                                               Title             Variety  \n",
       "2      Rainstorm 2013 Pinot Gris (Willamette Valley)          Pinot Gris  \n",
       "3  St. Julian 2013 Reserve Late Harvest Riesling ...            Riesling  \n",
       "4  Sweet Cheeks 2012 Vintner's Reserve Wild Child...          Pinot Noir  \n",
       "5  Tandem 2011 Ars In Vitro Tempranillo-Merlot (N...  Tempranillo-Merlot  \n",
       "6   Terre di Giurfo 2013 Belsito Frappato (Vittoria)            Frappato  "
      ]
     },
     "execution_count": 7,
     "metadata": {},
     "output_type": "execute_result"
    }
   ],
   "source": [
    " #designate the csv file data path\n",
    "data_load = Path ('../Resources/wine_data.csv')\n",
    "\n",
    "# uniform language\n",
    "wine_df = pd.read_csv(data_load,encoding=\"ISO-8859-1\")\n",
    "\n",
    "# removing duplicates\n",
    "wine_df = wine_df.drop([\"Unnamed: 7\", \"Unnamed: 8\", \"Unnamed: 9\", \"Unnamed: 10\", \"Unnamed: 11\", \"Unnamed: 12\"], axis=1)\n",
    "wine_df = wine_df.drop_duplicates()\n",
    "\n",
    "# rennaming and capitalization of data\n",
    "wine_df.rename(columns={'country':'Country'}, inplace=True)\n",
    "wine_df.rename(columns={'description':'Description'}, inplace=True)\n",
    "wine_df.rename(columns={'points':'Points'}, inplace=True)\n",
    "wine_df.rename(columns={'price ($)':'Price ($)'}, inplace=True)\n",
    "wine_df.rename(columns={'region':'Region'}, inplace=True)\n",
    "wine_df.rename(columns={'title':'Title'}, inplace=True)\n",
    "wine_df.rename(columns={'variety':'Variety'}, inplace=True)\n",
    "\n",
    "#change types from objects to strings, anything that is a number to a float64/int\n",
    "wine_df['Country']= wine_df['Country'].astype('string')\n",
    "wine_df['Description']= wine_df['Description'].astype('string')\n",
    "wine_df['Region']= wine_df['Region'].astype('string')\n",
    "wine_df['Title']= wine_df['Title'].astype('string')\n",
    "wine_df['Variety']= wine_df['Variety'].astype('string')\n",
    "wine_df['Price ($)']=pd.to_numeric(wine_df['Price ($)'],errors='coerce')\n",
    "wine_df['Points']=pd.to_numeric(wine_df['Points'],errors='coerce')\n",
    "\n",
    "#drop unnecessary values\n",
    "wine_df = wine_df.dropna(axis=0)\n",
    "\n",
    "#print first five rows of data frame\n",
    "wine_df.head()\n",
    "\n"
   ]
  },
  {
   "cell_type": "code",
   "execution_count": 8,
   "id": "c4a3e168",
   "metadata": {},
   "outputs": [
    {
     "data": {
      "text/plain": [
       "Country        string[python]\n",
       "Description    string[python]\n",
       "Points                float64\n",
       "Price ($)             float64\n",
       "Region         string[python]\n",
       "Title          string[python]\n",
       "Variety        string[python]\n",
       "dtype: object"
      ]
     },
     "execution_count": 8,
     "metadata": {},
     "output_type": "execute_result"
    }
   ],
   "source": [
    "# df types\n",
    "wine_df.dtypes"
   ]
  },
  {
   "cell_type": "code",
   "execution_count": 9,
   "id": "dfbfccc6",
   "metadata": {},
   "outputs": [
    {
     "data": {
      "text/plain": [
       "Country        93576\n",
       "Description    93576\n",
       "Points         93576\n",
       "Price ($)      93576\n",
       "Region         93576\n",
       "Title          93576\n",
       "Variety        93576\n",
       "dtype: int64"
      ]
     },
     "execution_count": 9,
     "metadata": {},
     "output_type": "execute_result"
    }
   ],
   "source": [
    "# df count\n",
    "wine_df.count()"
   ]
  },
  {
   "cell_type": "code",
   "execution_count": 11,
   "id": "74570a89",
   "metadata": {},
   "outputs": [
    {
     "data": {
      "text/plain": [
       "Index(['Country', 'Description', 'Points', 'Price ($)', 'Region', 'Title',\n",
       "       'Variety'],\n",
       "      dtype='object')"
      ]
     },
     "execution_count": 11,
     "metadata": {},
     "output_type": "execute_result"
    }
   ],
   "source": [
    "#find the different columns that are in data frame\n",
    "wine_df.columns "
   ]
  },
  {
   "cell_type": "code",
   "execution_count": 12,
   "id": "22e1a3d6",
   "metadata": {},
   "outputs": [
    {
     "data": {
      "text/plain": [
       "Variety\n",
       "Pinot Noir                  10841\n",
       "Chardonnay                   9293\n",
       "Cabernet Sauvignon           7738\n",
       "Red Blend                    6940\n",
       "Bordeaux-style Red Blend     4754\n",
       "Syrah                        3345\n",
       "Sauvignon Blanc              2930\n",
       "Rosé                         2557\n",
       "Zinfandel                    2523\n",
       "Merlot                       2450\n",
       "Name: Country, dtype: int64"
      ]
     },
     "execution_count": 12,
     "metadata": {},
     "output_type": "execute_result"
    }
   ],
   "source": [
    "wine_df.groupby('Variety').count()['Country'].nlargest(n=10)"
   ]
  },
  {
   "cell_type": "code",
   "execution_count": 25,
   "id": "d561cd0c",
   "metadata": {},
   "outputs": [
    {
     "data": {
      "image/png": "[encoded data removed]",
      "text/plain": [
       "<Figure size 640x480 with 1 Axes>"
      ]
     },
     "metadata": {},
     "output_type": "display_data"
    },
    {
     "name": "stdout",
     "output_type": "stream",
     "text": [
      "PearsonRResult(statistic=0.4149569124009651, pvalue=0.0)\n",
      "5.726900070932408 -469.3927736293209 0.41495691240096577 0.0 0.04104918491942843\n"
     ]
    }
   ],
   "source": [
    "x_values = wine_df['Points']\n",
    "y_values = wine_df['Price ($)']\n",
    "correlation = st.pearsonr(x_values,y_values)\n",
    "(slope, intercept, rvalue, pvalue, stderr) = st.linregress(x_values, y_values)\n",
    "regress_values = x_values * slope + intercept\n",
    "line_eq = \"y = \" + str(round(slope,2)) + \"x + \" + str(round(intercept,2))\n",
    "plt.scatter(x_values,y_values)\n",
    "plt.plot(x_values,regress_values,\"r-\")\n",
    "plt.annotate(line_eq,(90,3000),fontsize=15,color=\"red\")\n",
    "plt.xlabel('Wine Ratings')\n",
    "plt.ylabel('Wine Price ($)')\n",
    "plt.show()\n",
    "print(correlation)\n",
    "print(slope, intercept, rvalue, pvalue, stderr)"
   ]
  },
  {
   "cell_type": "code",
   "execution_count": 13,
   "id": "5c2fc59d",
   "metadata": {},
   "outputs": [
    {
     "data": {
      "text/plain": [
       "Country        string[python]\n",
       "Description    string[python]\n",
       "Points                float64\n",
       "Price ($)             float64\n",
       "Region         string[python]\n",
       "Title          string[python]\n",
       "Variety        string[python]\n",
       "dtype: object"
      ]
     },
     "execution_count": 13,
     "metadata": {},
     "output_type": "execute_result"
    }
   ],
   "source": [
    "df= wine_df['Variety'].value_counts()\n",
    "threshold = 2500\n",
    "drop_df = df[df > threshold].index\n",
    "\n",
    "clean_wine_df = wine_df[wine_df['Variety'].isin(drop_df)==False].reset_index(drop=True)\n",
    "\n",
    "clean_wine_df.dtypes\n"
   ]
  },
  {
   "cell_type": "code",
   "execution_count": 29,
   "id": "68debee5",
   "metadata": {},
   "outputs": [
    {
     "data": {
      "text/html": [
       "<div>\n",
       "<style scoped>\n",
       "    .dataframe tbody tr th:only-of-type {\n",
       "        vertical-align: middle;\n",
       "    }\n",
       "\n",
       "    .dataframe tbody tr th {\n",
       "        vertical-align: top;\n",
       "    }\n",
       "\n",
       "    .dataframe thead th {\n",
       "        text-align: right;\n",
       "    }\n",
       "</style>\n",
       "<table border=\"1\" class=\"dataframe\">\n",
       "  <thead>\n",
       "    <tr style=\"text-align: right;\">\n",
       "      <th></th>\n",
       "      <th>Points</th>\n",
       "      <th>Price ($)</th>\n",
       "    </tr>\n",
       "  </thead>\n",
       "  <tbody>\n",
       "    <tr>\n",
       "      <th>55</th>\n",
       "      <td>92.0</td>\n",
       "      <td>80.0</td>\n",
       "    </tr>\n",
       "    <tr>\n",
       "      <th>56</th>\n",
       "      <td>92.0</td>\n",
       "      <td>70.0</td>\n",
       "    </tr>\n",
       "    <tr>\n",
       "      <th>57</th>\n",
       "      <td>92.0</td>\n",
       "      <td>40.0</td>\n",
       "    </tr>\n",
       "    <tr>\n",
       "      <th>58</th>\n",
       "      <td>91.0</td>\n",
       "      <td>48.0</td>\n",
       "    </tr>\n",
       "    <tr>\n",
       "      <th>59</th>\n",
       "      <td>91.0</td>\n",
       "      <td>13.0</td>\n",
       "    </tr>\n",
       "    <tr>\n",
       "      <th>...</th>\n",
       "      <td>...</td>\n",
       "      <td>...</td>\n",
       "    </tr>\n",
       "    <tr>\n",
       "      <th>42650</th>\n",
       "      <td>90.0</td>\n",
       "      <td>40.0</td>\n",
       "    </tr>\n",
       "    <tr>\n",
       "      <th>42651</th>\n",
       "      <td>90.0</td>\n",
       "      <td>28.0</td>\n",
       "    </tr>\n",
       "    <tr>\n",
       "      <th>42652</th>\n",
       "      <td>90.0</td>\n",
       "      <td>30.0</td>\n",
       "    </tr>\n",
       "    <tr>\n",
       "      <th>42653</th>\n",
       "      <td>90.0</td>\n",
       "      <td>32.0</td>\n",
       "    </tr>\n",
       "    <tr>\n",
       "      <th>42654</th>\n",
       "      <td>90.0</td>\n",
       "      <td>21.0</td>\n",
       "    </tr>\n",
       "  </tbody>\n",
       "</table>\n",
       "<p>14237 rows × 2 columns</p>\n",
       "</div>"
      ],
      "text/plain": [
       "       Points  Price ($)\n",
       "55       92.0       80.0\n",
       "56       92.0       70.0\n",
       "57       92.0       40.0\n",
       "58       91.0       48.0\n",
       "59       91.0       13.0\n",
       "...       ...        ...\n",
       "42650    90.0       40.0\n",
       "42651    90.0       28.0\n",
       "42652    90.0       30.0\n",
       "42653    90.0       32.0\n",
       "42654    90.0       21.0\n",
       "\n",
       "[14237 rows x 2 columns]"
      ]
     },
     "execution_count": 29,
     "metadata": {},
     "output_type": "execute_result"
    }
   ],
   "source": [
    "high_points = clean_wine_df.loc[(clean_wine_df['Points']>= 90) & (clean_wine_df['Price ($)']<= 300)]\n",
    "\n",
    "high_points[['Points', 'Price ($)']]"
   ]
  },
  {
   "cell_type": "code",
   "execution_count": 33,
   "id": "8500d372",
   "metadata": {},
   "outputs": [
    {
     "data": {
      "image/png": "[encoded data removed]",
      "text/plain": [
       "<Figure size 640x480 with 1 Axes>"
      ]
     },
     "metadata": {},
     "output_type": "display_data"
    },
    {
     "name": "stdout",
     "output_type": "stream",
     "text": [
      "PearsonRResult(statistic=0.4531818720357277, pvalue=0.0)\n",
      "10.200931588743279 -885.4595788748009 0.45318187203572713 0.0 0.16817831923055288\n"
     ]
    }
   ],
   "source": [
    "x_values = high_points['Points']\n",
    "y_values = high_points['Price ($)']\n",
    "correlation = st.pearsonr(x_values,y_values)\n",
    "(slope, intercept, rvalue, pvalue, stderr) = st.linregress(x_values, y_values)\n",
    "regress_values = x_values * slope + intercept\n",
    "line_eq = \"y = \" + str(round(slope,2)) + \"x + \" + str(round(intercept,2))\n",
    "plt.scatter(x_values,y_values)\n",
    "plt.plot(x_values,regress_values,\"r-\")\n",
    "plt.annotate(line_eq,(92,300),fontsize=15,color=\"red\")\n",
    "plt.xlabel('Wine Ratings')\n",
    "plt.ylabel('Wine Price ($)')\n",
    "plt.show()\n",
    "print(correlation)\n",
    "print(slope, intercept, rvalue, pvalue, stderr)"
   ]
  }
 ],
 "metadata": {
  "kernelspec": {
   "display_name": "Python 3 (ipykernel)",
   "language": "python",
   "name": "python3"
  },
  "language_info": {
   "codemirror_mode": {
    "name": "ipython",
    "version": 3
   },
   "file_extension": ".py",
   "mimetype": "text/x-python",
   "name": "python",
   "nbconvert_exporter": "python",
   "pygments_lexer": "ipython3",
   "version": "3.10.13"
  }
 },
 "nbformat": 4,
 "nbformat_minor": 5
}
