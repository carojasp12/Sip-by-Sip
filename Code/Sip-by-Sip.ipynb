{
 "cells": [
  {
   "cell_type": "code",
   "execution_count": 154,
   "id": "8d4a7cb0-fbf6-487f-a8cc-5009206e1ecc",
   "metadata": {},
   "outputs": [],
   "source": [
    "import os\n",
    "import pandas as pd\n",
    "import matplotlib as mlt\n",
    "from pathlib import Path"
   ]
  },
  {
   "cell_type": "code",
   "execution_count": 155,
   "id": "fc015df4",
   "metadata": {},
   "outputs": [
    {
     "name": "stderr",
     "output_type": "stream",
     "text": [
      "C:\\Users\\francesca\\AppData\\Local\\Temp\\ipykernel_1868\\242545979.py:2: DtypeWarning: Columns (11,12) have mixed types. Specify dtype option on import or set low_memory=False.\n",
      "  wine_df = pd.read_csv(data_load,encoding=\"ISO-8859-1\")\n"
     ]
    },
    {
     "data": {
      "text/html": [
       "<div>\n",
       "<style scoped>\n",
       "    .dataframe tbody tr th:only-of-type {\n",
       "        vertical-align: middle;\n",
       "    }\n",
       "\n",
       "    .dataframe tbody tr th {\n",
       "        vertical-align: top;\n",
       "    }\n",
       "\n",
       "    .dataframe thead th {\n",
       "        text-align: right;\n",
       "    }\n",
       "</style>\n",
       "<table border=\"1\" class=\"dataframe\">\n",
       "  <thead>\n",
       "    <tr style=\"text-align: right;\">\n",
       "      <th></th>\n",
       "      <th>Country</th>\n",
       "      <th>Description</th>\n",
       "      <th>Points</th>\n",
       "      <th>Price ($)</th>\n",
       "      <th>Region</th>\n",
       "      <th>Title</th>\n",
       "      <th>Variety</th>\n",
       "    </tr>\n",
       "  </thead>\n",
       "  <tbody>\n",
       "    <tr>\n",
       "      <th>2</th>\n",
       "      <td>US</td>\n",
       "      <td>Tart and snappy, the flavors of lime flesh and...</td>\n",
       "      <td>87</td>\n",
       "      <td>14</td>\n",
       "      <td>Willamette Valley</td>\n",
       "      <td>Rainstorm 2013 Pinot Gris (Willamette Valley)</td>\n",
       "      <td>Pinot Gris</td>\n",
       "    </tr>\n",
       "    <tr>\n",
       "      <th>3</th>\n",
       "      <td>US</td>\n",
       "      <td>Pineapple rind, lemon pith and orange blossom ...</td>\n",
       "      <td>87</td>\n",
       "      <td>13</td>\n",
       "      <td>Lake Michigan Shore</td>\n",
       "      <td>St. Julian 2013 Reserve Late Harvest Riesling ...</td>\n",
       "      <td>Riesling</td>\n",
       "    </tr>\n",
       "    <tr>\n",
       "      <th>4</th>\n",
       "      <td>US</td>\n",
       "      <td>Much like the regular bottling from 2012, this...</td>\n",
       "      <td>87</td>\n",
       "      <td>65</td>\n",
       "      <td>Willamette Valley</td>\n",
       "      <td>Sweet Cheeks 2012 Vintner's Reserve Wild Child...</td>\n",
       "      <td>Pinot Noir</td>\n",
       "    </tr>\n",
       "    <tr>\n",
       "      <th>5</th>\n",
       "      <td>Spain</td>\n",
       "      <td>Blackberry and raspberry aromas show a typical...</td>\n",
       "      <td>87</td>\n",
       "      <td>15</td>\n",
       "      <td>Navarra</td>\n",
       "      <td>Tandem 2011 Ars In Vitro Tempranillo-Merlot (N...</td>\n",
       "      <td>Tempranillo-Merlot</td>\n",
       "    </tr>\n",
       "    <tr>\n",
       "      <th>6</th>\n",
       "      <td>Italy</td>\n",
       "      <td>Here's a bright, informal red that opens with ...</td>\n",
       "      <td>87</td>\n",
       "      <td>16</td>\n",
       "      <td>Vittoria</td>\n",
       "      <td>Terre di Giurfo 2013 Belsito Frappato (Vittoria)</td>\n",
       "      <td>Frappato</td>\n",
       "    </tr>\n",
       "  </tbody>\n",
       "</table>\n",
       "</div>"
      ],
      "text/plain": [
       "  Country                                        Description Points Price ($)  \\\n",
       "2      US  Tart and snappy, the flavors of lime flesh and...     87        14   \n",
       "3      US  Pineapple rind, lemon pith and orange blossom ...     87        13   \n",
       "4      US  Much like the regular bottling from 2012, this...     87        65   \n",
       "5   Spain  Blackberry and raspberry aromas show a typical...     87        15   \n",
       "6   Italy  Here's a bright, informal red that opens with ...     87        16   \n",
       "\n",
       "                Region                                              Title  \\\n",
       "2    Willamette Valley      Rainstorm 2013 Pinot Gris (Willamette Valley)   \n",
       "3  Lake Michigan Shore  St. Julian 2013 Reserve Late Harvest Riesling ...   \n",
       "4    Willamette Valley  Sweet Cheeks 2012 Vintner's Reserve Wild Child...   \n",
       "5              Navarra  Tandem 2011 Ars In Vitro Tempranillo-Merlot (N...   \n",
       "6             Vittoria   Terre di Giurfo 2013 Belsito Frappato (Vittoria)   \n",
       "\n",
       "              Variety  \n",
       "2          Pinot Gris  \n",
       "3            Riesling  \n",
       "4          Pinot Noir  \n",
       "5  Tempranillo-Merlot  \n",
       "6            Frappato  "
      ]
     },
     "execution_count": 155,
     "metadata": {},
     "output_type": "execute_result"
    }
   ],
   "source": [
    " \n",
    "# uniform language\n",
    "wine_df = pd.read_csv(data_load,encoding=\"ISO-8859-1\")\n",
    "\n",
    "# removing duplicates\n",
    "wine_df = wine_df.drop([\"Unnamed: 7\", \"Unnamed: 8\", \"Unnamed: 9\", \"Unnamed: 10\", \"Unnamed: 11\", \"Unnamed: 12\"], axis=1)\n",
    "wine_df = wine_df.dropna(axis=0)\n",
    "wine_df = wine_df.drop_duplicates()\n",
    "\n",
    "# rennaming and capitalization of data\n",
    "wine_df.rename(columns={'country':'Country'}, inplace=True)\n",
    "wine_df.rename(columns={'description':'Description'}, inplace=True)\n",
    "wine_df.rename(columns={'points':'Points'}, inplace=True)\n",
    "wine_df.rename(columns={'price ($)':'Price ($)'}, inplace=True)\n",
    "wine_df.rename(columns={'region':'Region'}, inplace=True)\n",
    "wine_df.rename(columns={'title':'Title'}, inplace=True)\n",
    "wine_df.rename(columns={'variety':'Variety'}, inplace=True)\n",
    "\n",
    "wine_df.head()\n",
    "\n"
   ]
  },
  {
   "cell_type": "code",
   "execution_count": 156,
   "id": "c4a3e168",
   "metadata": {},
   "outputs": [
    {
     "data": {
      "text/plain": [
       "Country        object\n",
       "Description    object\n",
       "Points         object\n",
       "Price ($)      object\n",
       "Region         object\n",
       "Title          object\n",
       "Variety        object\n",
       "dtype: object"
      ]
     },
     "execution_count": 156,
     "metadata": {},
     "output_type": "execute_result"
    }
   ],
   "source": [
    "# df types\n",
    "wine_df.dtypes"
   ]
  },
  {
   "cell_type": "code",
   "execution_count": 157,
   "id": "dfbfccc6",
   "metadata": {},
   "outputs": [
    {
     "data": {
      "text/plain": [
       "Country        93579\n",
       "Description    93579\n",
       "Points         93579\n",
       "Price ($)      93579\n",
       "Region         93579\n",
       "Title          93579\n",
       "Variety        93579\n",
       "dtype: int64"
      ]
     },
     "execution_count": 157,
     "metadata": {},
     "output_type": "execute_result"
    }
   ],
   "source": [
    "# df count\n",
    "wine_df.count()"
   ]
  },
  {
   "cell_type": "markdown",
   "id": "26f7b0c5",
   "metadata": {},
   "source": [
    "\n"
   ]
  }
 ],
 "metadata": {
  "kernelspec": {
   "display_name": "Python 3 (ipykernel)",
   "language": "python",
   "name": "python3"
  },
  "language_info": {
   "codemirror_mode": {
    "name": "ipython",
    "version": 3
   },
   "file_extension": ".py",
   "mimetype": "text/x-python",
   "name": "python",
   "nbconvert_exporter": "python",
   "pygments_lexer": "ipython3",
   "version": "3.10.13"
  }
 },
 "nbformat": 4,
 "nbformat_minor": 5
}
